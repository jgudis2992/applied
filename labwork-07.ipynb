{
 "cells": [
  {
   "cell_type": "markdown",
   "metadata": {},
   "source": [
    "ChEn-3170: Computational Methods in Chemical Engineering Fall 2020 UMass Lowell; Prof. V. F. de Almeida **14Oct20**\n",
    "\n",
    "# Laboratory Work 07 (15Oct20)\n",
    "$\n",
    "  \\newcommand{\\Amtrx}{\\boldsymbol{\\mathsf{A}}}\n",
    "  \\newcommand{\\Bmtrx}{\\boldsymbol{\\mathsf{B}}}\n",
    "  \\newcommand{\\Cmtrx}{\\boldsymbol{\\mathsf{C}}}\n",
    "  \\newcommand{\\Mmtrx}{\\boldsymbol{\\mathsf{M}}}\n",
    "  \\newcommand{\\Imtrx}{\\boldsymbol{\\mathsf{I}}}\n",
    "  \\newcommand{\\Pmtrx}{\\boldsymbol{\\mathsf{P}}}\n",
    "  \\newcommand{\\Qmtrx}{\\boldsymbol{\\mathsf{Q}}}\n",
    "  \\newcommand{\\Lmtrx}{\\boldsymbol{\\mathsf{L}}}\n",
    "  \\newcommand{\\Smtrx}{\\boldsymbol{\\mathsf{S}}}\n",
    "  \\newcommand{\\Umtrx}{\\boldsymbol{\\mathsf{U}}}\n",
    "  \\newcommand{\\xvec}{\\boldsymbol{\\mathsf{x}}}\n",
    "  \\newcommand{\\yvec}{\\boldsymbol{\\mathsf{y}}}\n",
    "  \\newcommand{\\zvec}{\\boldsymbol{\\mathsf{z}}}\n",
    "  \\newcommand{\\avec}{\\boldsymbol{\\mathsf{a}}}\n",
    "  \\newcommand{\\bvec}{\\boldsymbol{\\mathsf{b}}}\n",
    "  \\newcommand{\\cvec}{\\boldsymbol{\\mathsf{c}}}\n",
    "  \\newcommand{\\rvec}{\\boldsymbol{\\mathsf{r}}}\n",
    "  \\newcommand{\\gvec}{\\boldsymbol{\\mathsf{g}}}\n",
    "  \\newcommand{\\norm}[1]{\\bigl\\lVert{#1}\\bigr\\rVert}\n",
    "  \\DeclareMathOperator{\\rank}{rank}\n",
    "  \\DeclareMathOperator{\\abs}{abs}\n",
    "$"
   ]
  },
  {
   "cell_type": "markdown",
   "metadata": {},
   "source": [
    "### Name: `Your Name`"
   ]
  },
  {
   "cell_type": "markdown",
   "metadata": {},
   "source": [
    "### Rubric for each assignment: \n",
    "\n",
    "|        Context            |  Points |\n",
    "| -----------------------     | ------- |\n",
    "| Precision of the answer     |   80%   |\n",
    "| Answer Markdown readability |   10%   |\n",
    "| Code readability            |   10%   |\n",
    "    "
   ]
  },
  {
   "cell_type": "markdown",
   "metadata": {},
   "source": [
    "### <span style=\"color:red\">Guidance:</span>\n",
    "\n",
    "+  <span style=\"color:red\"> \n",
    "    Save your work frequently to a file locally to your computer.\n",
    "   </span>\n",
    "+  <span style=\"color:red\">\n",
    "    During your work and before submitting the final version do:</span> Kernel -> Restart & Run All<span style=\"color:red\">, to verify your notebook runs correctly.\n",
    "   </span>\n",
    "+  <span style=\"color:red\">\n",
    "    Save your file again.\n",
    "   </span>\n",
    "+  <span style=\"color:red\">\n",
    "    Upload the notebook file: \n",
    "   </span> labwork-xx.ipynb<span style=\"color:red\"> on Blackboard.</span>"
   ]
  },
  {
   "cell_type": "markdown",
   "metadata": {},
   "source": [
    "---\n",
    "## Table of Assignments<a id=\"toa\"></a>\n",
    "* [Assignment 1 (20pts)](#a1) Solution of $\\overset{(100 \\times 100)}{\\Amtrx}\\,\\xvec = \\bvec$.\n",
    " - [1.1)](#a11) Import image as matrix.\n",
    " - [1.2)](#a12) Compute solution and explain.\n",
    "* [Assignment 2 (25pts)](#a2) Matrix inverse.\n",
    " - [2.1)](#a21) Compute inverse.\n",
    " - [2.2)](#a22) Demonstrate correctness.\n",
    " - [2.3)](#a23) Plot $\\Amtrx$, $\\Amtrx^{-1}$ and $\\Amtrx^{-1}\\Amtrx$.\n",
    "* [Assignment 3 (25pts)](#a3) \n",
    " - [3.1)](#a31) Solution of $\\overset{(100 \\times 50)}{\\Amtrx}\\,\\xvec = \\bvec$.\n",
    " - [3.2)](#a32) Solution of $\\overset{(50 \\times 100)}{\\Amtrx}\\,\\xvec = \\bvec$.\n",
    "* [Assignment 4 (25pts)](#a4) Stoichiometry\n",
    " - [4.1)](#a41) Compute rank(S).\n",
    " - [4.2)](#a42) Compute given matrix equation.\n",
    "* [Assignment 5 (5pts)](#a5) \n",
    "\n",
    " ---"
   ]
  },
  {
   "cell_type": "markdown",
   "metadata": {},
   "source": [
    "## <span style=\"color:blue\">[Assignment 1 (20 pts)](#toa)</span><a id=\"a1\"></a>"
   ]
  },
  {
   "cell_type": "markdown",
   "metadata": {},
   "source": [
    "### <span style=\"color:blue\">[1.1)](#toa) Import the following image URL: \n",
    "        \n",
    " + https://raw.githubusercontent.com/dpploy/chen-3170/master/notebooks/images/cermet.png\n",
    "</span>\n",
    "<br>\n",
    "\n",
    "### <span style=\"color:blue\">as a matrix $\\Amtrx$ (need internet connection) and plot.</span><a id=\"a11\"></a>"
   ]
  },
  {
   "cell_type": "code",
   "execution_count": 40,
   "metadata": {},
   "outputs": [],
   "source": [
    "import numpy as np\n",
    "from matplotlib import pyplot as plt\n",
    "%matplotlib inline\n",
    "\n",
    "def LUPQdecomposition(matrix):\n",
    "    m,n = matrix.shape\n",
    "    P = np.identity(m)\n",
    "    L = np.identity(m)\n",
    "    Q = np.identity(n)\n",
    "    U = matrix.copy()\n",
    "    for k in range(0, n - 1):\n",
    "        max_magnitude_value = np.max(np.abs(U[k:,k]))\n",
    "        pivot_candidates = np.abs(np.copy(U[:,k]))\n",
    "        pivot_candidates[:k] = 0\n",
    "        (row_ids,) = np.where(pivot_candidates == max_magnitude_value)\n",
    "        pivot_row_id = max(k,row_ids[0])\n",
    "        pivot_col_id = k\n",
    "        pivot = U[pivot_row_id,pivot_col_id]\n",
    "\n",
    "\n",
    "        #row permutation matrix\n",
    "\n",
    "        p_k = np.eye(m)\n",
    "        save = p_k[k, :].copy()\n",
    "        p_k[k, :] = p_k[pivot_row_id, :]\n",
    "        p_k[pivot_row_id, :] = save\n",
    "\n",
    "        P = p_k@P\n",
    "        U = p_k@U\n",
    "\n",
    "        #column permutation matrix\n",
    "\n",
    "        q_k = np.eye(n)\n",
    "        save1 = q_k[:,k].copy()\n",
    "        q_k[:,k] = q_k[:,pivot_col_id]\n",
    "        q_k[:,pivot_col_id] = save1\n",
    "\n",
    "        Q = Q@q_k\n",
    "        U = U@q_k\n",
    "\n",
    "        for i in range(k+1,m-1):\n",
    "            if U[i,k] != 0.0:\n",
    "                multiplier = U[i,k]/pivot\n",
    "                L[i,k] = multiplier\n",
    "                for j in range(k,n-1):\n",
    "                    U[i,j] -= U[k,j]*multiplier\n",
    "\n",
    "        L[:,:k] = p_k@L[:,:k]\n",
    "\n",
    "    rank = np.linalg.matrix_rank(U)\n",
    "\n",
    "\n",
    "    return(P,L,U,Q,rank)\n",
    "\n",
    "def forward_solve(l_mtrx, b_vec, loop_option='use-dot-product'):\n",
    "\n",
    "    # sanity test\n",
    "    assert isinstance(l_mtrx,np.ndarray)      # l_mtrx must be np.ndarray\n",
    "    assert l_mtrx.shape[0] == l_mtrx.shape[1],'non-square matrix.' # l_mtrx must be square\n",
    "    assert np.all(np.abs(np.diagonal(l_mtrx)) > 0.0),'zero value on diagonal.'\n",
    "    rows_ids, cols_ids = np.where(np.abs(l_mtrx) > 0) # get i, j of non zero entries\n",
    "    assert b_vec.shape[0] == l_mtrx.shape[0],'incompatible l_mtrx @ b_vec dimensions'  # b_vec must be compatible to l_mtrx\n",
    "    assert loop_option == 'use-dot-product' or loop_option == 'use-double-loop'\n",
    "    # end of sanity test\n",
    "\n",
    "    m_rows = l_mtrx.shape[0]\n",
    "    n_cols = m_rows\n",
    "    x_vec = np.zeros(n_cols)\n",
    "\n",
    "    if loop_option == 'use-dot-product':\n",
    "\n",
    "        for i in range(m_rows):\n",
    "            sum_lx = np.dot( l_mtrx[i,:i], x_vec[:i] )\n",
    "            #sum_lx = l_mtrx[i,:i] @ x_vec[:i] # matrix-vec mult. alternative to dot product\n",
    "            x_vec[i] = b_vec[i] - sum_lx\n",
    "            x_vec[i] /= l_mtrx[i,i]\n",
    "\n",
    "    elif loop_option == 'use-double-loop':\n",
    "\n",
    "        for i in range(m_rows):\n",
    "            sum_lx = 0.0\n",
    "            for j in range(i):\n",
    "                sum_lx += l_mtrx[i,j] * x_vec[j]\n",
    "            x_vec[i] = b_vec[i] - sum_lx\n",
    "            x_vec[i] /= l_mtrx[i,i]\n",
    "\n",
    "    else:\n",
    "        assert False, 'not allowed option: %r'%loop_option\n",
    "\n",
    "    return x_vec"
   ]
  },
  {
   "cell_type": "code",
   "execution_count": 22,
   "metadata": {},
   "outputs": [
    {
     "data": {
      "image/png": "[encoded data removed]",
      "text/plain": [
       "<Figure size 1440x288 with 1 Axes>"
      ]
     },
     "metadata": {
      "needs_background": "light"
     },
     "output_type": "display_data"
    }
   ],
   "source": [
    "'''1.1) Import matrix and show image'''\n",
    "\n",
    "block=plt.imread('images/cermet.png',format='png')\n",
    "A_mtrx=np.array(block)\n",
    "plt.imshow( A_mtrx,  cmap='gray' ) \n",
    "plt.axis('off')\n",
    "plt.show()"
   ]
  },
  {
   "cell_type": "markdown",
   "metadata": {},
   "source": [
    "### <span style=\"color:blue\">[1.2)](#toa) Compute the solution\n",
    "    \n",
    "<br>\n",
    "<span style=\"color:blue\">\n",
    "\\begin{equation*}\n",
    "\\overset{(100 \\times 100)}{\\Amtrx}\\,\\xvec = \\bvec, \n",
    "\\end{equation*}\n",
    "</span>\n",
    "    \n",
    "### <span style=\"color:blue\">where $\\bvec$ is a random vector. Use your algorithms. Explain why there is a solution if $\\bvec$ is random. Verify that your solution method is correct; explain.</span><a id=\"a12\"></a>"
   ]
  },
  {
   "cell_type": "code",
   "execution_count": 42,
   "metadata": {},
   "outputs": [
    {
     "name": "stdout",
     "output_type": "stream",
     "text": [
      "b - A x = [-29.82922305 -28.35272998 -27.73160507 -27.66618128 -26.64211507\n",
      " -25.972836   -25.12317748 -23.65447414 -23.62965191 -22.15258022\n",
      " -21.92931094 -20.95936283 -19.68304896 -18.599463   -18.74974432\n",
      " -17.8383523  -17.1921062  -17.03136153 -16.03303018 -15.75734268\n",
      " -15.51545029 -14.65580111 -14.69403665 -14.21618108 -14.41183576\n",
      " -13.76943003 -14.24589357 -13.8900313  -13.2706707  -14.20425915\n",
      " -13.89763237 -13.78414211 -13.11127998 -13.75937794 -13.32541991\n",
      " -13.74461239 -13.0589712  -13.29640943 -13.76391515 -13.19530799\n",
      " -13.13642941 -13.5548544  -13.55179807 -13.30317095 -14.13641766\n",
      " -14.29869883 -14.57704871 -13.90574252 -14.26608384 -14.02852397\n",
      " -14.21235739 -14.63528697 -14.4648322  -14.33628001 -14.75609521\n",
      " -14.59760739 -14.82188067 -14.55072365 -14.30155181 -14.184051\n",
      " -14.83285418 -14.1033677  -14.59987096 -14.50769015 -14.51012713\n",
      " -14.2150309  -15.11470199 -14.20596992 -14.28525617 -14.99902303\n",
      " -14.41790935 -14.62783802 -15.25091762 -14.50079697 -14.75978941\n",
      " -14.60838718 -14.74374901 -15.07698352 -14.84274402 -15.11220461\n",
      " -15.7703101  -15.21225498 -15.21836429 -15.48118134 -15.04758267\n",
      " -15.09042188 -14.8862441  -15.52216851 -15.53105581 -14.52144646\n",
      " -15.2832335  -14.33288985 -14.54928008 -14.64399639 -13.89572078\n",
      " -13.70414603 -13.2517765  -12.92641943 -13.12592366 -12.5746454 ]\n",
      "||b - A x|| = 163.4085799179178\n"
     ]
    }
   ],
   "source": [
    "b_vec=np.random.random(100)\n",
    "matrix=A_mtrx[0:100,0:100]\n",
    "P,L,U,Q,rank=LUPQdecomposition(matrix)\n",
    "(x_vec)=forward_solve(L,b_vec)\n",
    "check=matrix@x_vec\n",
    "res_vec = b_vec - check\n",
    "\n",
    "print('b - A x =',res_vec)\n",
    "print('||b - A x|| =',np.linalg.norm( res_vec ))"
   ]
  },
  {
   "cell_type": "code",
   "execution_count": 3,
   "metadata": {},
   "outputs": [],
   "source": [
    "'''1.2) Code for A x = b'''\n",
    "import numpy.linalg as linalg\n",
    "\n",
    "b_vec=np.random.random(100)\n",
    "A=A_mtrx[0:100,0:100]\n",
    "x_vec = np.linalg.solve( A, b_vec )"
   ]
  },
  {
   "cell_type": "code",
   "execution_count": 4,
   "metadata": {},
   "outputs": [
    {
     "name": "stdout",
     "output_type": "stream",
     "text": [
      "b - A x = [ 9.89208715e-14 -7.54951657e-15  7.16093851e-14 -8.54871729e-15\n",
      " -4.08562073e-14 -5.79536419e-14  2.22044605e-14  3.81916720e-14\n",
      " -6.47260023e-14 -6.99440506e-15  4.99600361e-14  5.52891066e-14\n",
      " -3.23074900e-14  2.33146835e-14  4.61852778e-14  5.29576383e-14\n",
      " -3.33066907e-16  6.33937347e-14  3.96349620e-14 -4.74065232e-14\n",
      "  1.94289029e-14 -1.33226763e-14  1.18127730e-13 -9.76996262e-14\n",
      " -2.20934382e-14 -1.44106949e-13 -1.56097357e-13 -3.18634008e-14\n",
      "  2.12052598e-14  3.60822483e-14 -2.46469511e-14 -1.19015908e-13\n",
      " -9.72555370e-14 -1.01030295e-14  9.59232693e-14  1.33226763e-15\n",
      " -8.10462808e-15  9.58122470e-14 -1.76525461e-14  9.75886039e-14\n",
      "  2.55351296e-15  6.51700915e-14  3.10862447e-14 -2.27595720e-14\n",
      "  2.62012634e-14  5.49560397e-14  3.46389584e-14 -5.83977311e-14\n",
      "  1.64313008e-14 -1.19459997e-13 -2.29816166e-14  3.66373598e-15\n",
      " -9.98090499e-14  5.36237721e-14  0.00000000e+00 -4.36317649e-14\n",
      "  1.48769885e-14  9.80326931e-14 -4.03010958e-14 -3.78586051e-14\n",
      "  8.91509089e-14  5.65103520e-14 -5.01820807e-14  4.44089210e-15\n",
      " -2.56461519e-14  8.88178420e-16 -9.70334924e-14 -5.69544412e-14\n",
      "  1.08801856e-14  1.22124533e-14  1.83186799e-14  4.14113188e-14\n",
      "  2.62012634e-14 -1.27786670e-13 -5.72875081e-14  1.29674049e-13\n",
      "  2.55351296e-15  5.57331958e-14 -4.41868764e-14 -7.18314297e-14\n",
      "  2.70894418e-14 -1.84297022e-14  2.48689958e-14 -2.45359288e-13\n",
      "  6.97220059e-14 -4.03010958e-14 -1.48769885e-14  5.75095527e-14\n",
      " -4.14113188e-14 -8.55981952e-14  1.64535052e-13 -4.58522109e-14\n",
      " -1.23234756e-14  3.40838469e-14 -8.74855743e-14  5.32907052e-15\n",
      " -5.88418203e-15  3.38618023e-14  1.33226763e-14  1.83297821e-13]\n",
      "||b - A x|| = 6.772975504040423e-13\n"
     ]
    }
   ],
   "source": [
    "'''1.2) Code for A x = b correctness'''\n",
    "check=A@x_vec\n",
    "res_vec = b_vec - check\n",
    "\n",
    "print('b - A x =',res_vec)\n",
    "print('||b - A x|| =',np.linalg.norm( res_vec ))"
   ]
  },
  {
   "cell_type": "markdown",
   "metadata": {},
   "source": [
    "**Explanation:** I attempted to solve for the x vector using my previous factorization code and was unable to come up with an answer that made sense. To at least get an answer, the built in Linalg function was used. I had checked the rank of A and found an answer of 100. Because this is a square matrix and the rank of A is equal to its dimensions, solving will give a unique solution for any b vector used."
   ]
  },
  {
   "cell_type": "markdown",
   "metadata": {},
   "source": [
    "## <span style=\"color:blue\">[Assignment 2 (25 pts)](#toa)</span><a id=\"a2\"></a>"
   ]
  },
  {
   "cell_type": "markdown",
   "metadata": {},
   "source": [
    "### <span style=\"color:blue\">[2.1)](#toa) Using your algorithms, compute the matrix: \n",
    "    \n",
    "<br>\n",
    "<span style=\"color:blue\">\n",
    "\\begin{equation*}\n",
    "\\overset{(50 \\times 50)}{\\Amtrx^{-1}}\n",
    "\\end{equation*}\n",
    "</span><a id=\"a21\"></a>"
   ]
  },
  {
   "cell_type": "code",
   "execution_count": 48,
   "metadata": {},
   "outputs": [],
   "source": [
    "'''2.1) Code to invert A'''\n",
    "A=A_mtrx[0:50,0:50]\n",
    "A_inv=linalg.inv(A)"
   ]
  },
  {
   "cell_type": "markdown",
   "metadata": {},
   "source": [
    "### <span style=\"color:blue\">[2.2)](#toa) Demonstrate your computed $\\overset{(50 \\times 50)}{\\Amtrx^{-1}}$ is correct and explain.</span><a id=\"a22\"></a>"
   ]
  },
  {
   "cell_type": "code",
   "execution_count": 49,
   "metadata": {},
   "outputs": [
    {
     "name": "stdout",
     "output_type": "stream",
     "text": [
      "[[ 5.28097153e-05  3.78748405e-06  2.63536890e-06 ... -3.64096413e-05\n",
      "   0.00000000e+00  0.00000000e+00]\n",
      " [-4.67666650e-05  2.44379044e-05 -3.55295947e-06 ...  2.54469669e-05\n",
      "  -9.15527344e-05 -6.10351562e-05]\n",
      " [ 1.45898393e-05  9.22456638e-06  1.80602074e-05 ...  1.91900363e-05\n",
      "   9.15527344e-05  3.05175781e-05]\n",
      " ...\n",
      " [-9.98416181e-06 -1.30833987e-05 -1.30838080e-05 ... -1.90734863e-06\n",
      "   3.05175781e-05  0.00000000e+00]\n",
      " [ 1.06811523e-04 -1.52587891e-05  1.52587891e-05 ...  1.52587891e-05\n",
      "   0.00000000e+00  7.62939453e-05]\n",
      " [-1.90734863e-06 -1.90734863e-06  1.90734863e-06 ...  3.81469727e-06\n",
      "   7.62939453e-06  0.00000000e+00]]\n"
     ]
    }
   ],
   "source": [
    "'''2.3) Code for correctness'''\n",
    "I=np.eye(50)\n",
    "check=A_inv@A\n",
    "check1=I-check\n",
    "print(check1)"
   ]
  },
  {
   "cell_type": "markdown",
   "metadata": {},
   "source": [
    "**Explanation:** When a matrix is multiplied by its inverse, this should give us the identity matrix. To check if the inverse was found correctly, the A matrix could be multiplied by its inverse. This value could then be subtracted from the identity matrix, and values of zero should be returned. Above we see that each value is zero or almost zero."
   ]
  },
  {
   "cell_type": "markdown",
   "metadata": {},
   "source": [
    "### <span style=\"color:blue\">[2.3)](#toa) Make a plot of $\\overset{(50 \\times 50)}{\\Amtrx}$, $\\overset{(50 \\times 50)}{\\Amtrx^{-1}}$, and the product $\\overset{(50 \\times 50)}{\\Amtrx^{-1}}\\,  \\overset{(50 \\times 50)}{\\Amtrx}$. Explain the plots; in particular the rightmost one.</span><a id=\"a23\"></a>"
   ]
  },
  {
   "cell_type": "code",
   "execution_count": 52,
   "metadata": {
    "scrolled": true
   },
   "outputs": [
    {
     "data": {
      "image/png": "[encoded data removed]",
      "text/plain": [
       "<Figure size 216x216 with 1 Axes>"
      ]
     },
     "metadata": {
      "needs_background": "light"
     },
     "output_type": "display_data"
    },
    {
     "data": {
      "image/png": "[encoded data removed]",
      "text/plain": [
       "<Figure size 216x216 with 1 Axes>"
      ]
     },
     "metadata": {
      "needs_background": "light"
     },
     "output_type": "display_data"
    },
    {
     "data": {
      "image/png": "[encoded data removed]",
      "text/plain": [
       "<Figure size 216x216 with 1 Axes>"
      ]
     },
     "metadata": {
      "needs_background": "light"
     },
     "output_type": "display_data"
    }
   ],
   "source": [
    "'''2.3) Code for plotting'''\n",
    "plt.rcParams['figure.figsize'] = [3, 3]\n",
    "plt.imshow( A,  cmap='gray' ) \n",
    "plt.title('A',fontsize=14)\n",
    "plt.show()\n",
    "plt.imshow( A_inv,  cmap='gray' )\n",
    "plt.title(r'$A^{-1}$',fontsize=14)\n",
    "plt.show()\n",
    "plt.imshow( check,  cmap='gray' ) \n",
    "plt.title(r'$A^{-1}A$',fontsize=14)\n",
    "plt.show()"
   ]
  },
  {
   "cell_type": "markdown",
   "metadata": {},
   "source": [
    "**Explanation:** The first plot of A returns the upper left section of the original matrix it was sliced from. Matrix A was then run through a function that produced the inverse matrix, which we can see plotted in the second plot. The final plot was found by multiplying the original A matrix by its inverse. As we have learned, a matrix multiplied by its inverse produces the identity matrix. This can be seen in the last plot produced."
   ]
  },
  {
   "cell_type": "markdown",
   "metadata": {},
   "source": [
    "## <span style=\"color:blue\">[Assignment 3 (25 pts)](#toa)</span><a id=\"a3\"></a>"
   ]
  },
  {
   "cell_type": "markdown",
   "metadata": {},
   "source": [
    "### <span style=\"color:blue\">[3.1)](#toa) Using your algorithms, what can you say about the solution of: \n",
    "    \n",
    "<br>\n",
    "<span style=\"color:blue\">\n",
    "\\begin{equation*}\n",
    "\\overset{(100 \\times 50)}{\\Amtrx}\\,\\xvec = \\bvec.\n",
    "\\end{equation*}\n",
    "</span>\n",
    "    \n",
    "### <span style=\"color:blue\">Explain.</span><a id=\"a31\"></a>"
   ]
  },
  {
   "cell_type": "code",
   "execution_count": 7,
   "metadata": {},
   "outputs": [
    {
     "ename": "LinAlgError",
     "evalue": "Last 2 dimensions of the array must be square",
     "output_type": "error",
     "traceback": [
      "\u001b[1;31m---------------------------------------------------------------------------\u001b[0m",
      "\u001b[1;31mLinAlgError\u001b[0m                               Traceback (most recent call last)",
      "\u001b[1;32m<ipython-input-7-d162228a062f>\u001b[0m in \u001b[0;36m<module>\u001b[1;34m\u001b[0m\n\u001b[0;32m      2\u001b[0m \u001b[0mA\u001b[0m\u001b[1;33m=\u001b[0m\u001b[0mA_mtrx\u001b[0m\u001b[1;33m[\u001b[0m\u001b[1;33m:\u001b[0m\u001b[1;36m100\u001b[0m\u001b[1;33m,\u001b[0m\u001b[1;33m:\u001b[0m\u001b[1;36m50\u001b[0m\u001b[1;33m]\u001b[0m\u001b[1;33m\u001b[0m\u001b[1;33m\u001b[0m\u001b[0m\n\u001b[0;32m      3\u001b[0m \u001b[0mb_vec\u001b[0m\u001b[1;33m=\u001b[0m\u001b[0mnp\u001b[0m\u001b[1;33m.\u001b[0m\u001b[0mrandom\u001b[0m\u001b[1;33m.\u001b[0m\u001b[0mrandom\u001b[0m\u001b[1;33m(\u001b[0m\u001b[1;36m100\u001b[0m\u001b[1;33m)\u001b[0m\u001b[1;33m\u001b[0m\u001b[1;33m\u001b[0m\u001b[0m\n\u001b[1;32m----> 4\u001b[1;33m \u001b[0mx_vec\u001b[0m \u001b[1;33m=\u001b[0m \u001b[0mnp\u001b[0m\u001b[1;33m.\u001b[0m\u001b[0mlinalg\u001b[0m\u001b[1;33m.\u001b[0m\u001b[0msolve\u001b[0m\u001b[1;33m(\u001b[0m \u001b[0mA\u001b[0m\u001b[1;33m,\u001b[0m \u001b[0mb_vec\u001b[0m \u001b[1;33m)\u001b[0m\u001b[1;33m\u001b[0m\u001b[1;33m\u001b[0m\u001b[0m\n\u001b[0m",
      "\u001b[1;32m<__array_function__ internals>\u001b[0m in \u001b[0;36msolve\u001b[1;34m(*args, **kwargs)\u001b[0m\n",
      "\u001b[1;32m~\\anaconda3\\lib\\site-packages\\numpy\\linalg\\linalg.py\u001b[0m in \u001b[0;36msolve\u001b[1;34m(a, b)\u001b[0m\n\u001b[0;32m    384\u001b[0m     \u001b[0ma\u001b[0m\u001b[1;33m,\u001b[0m \u001b[0m_\u001b[0m \u001b[1;33m=\u001b[0m \u001b[0m_makearray\u001b[0m\u001b[1;33m(\u001b[0m\u001b[0ma\u001b[0m\u001b[1;33m)\u001b[0m\u001b[1;33m\u001b[0m\u001b[1;33m\u001b[0m\u001b[0m\n\u001b[0;32m    385\u001b[0m     \u001b[0m_assert_stacked_2d\u001b[0m\u001b[1;33m(\u001b[0m\u001b[0ma\u001b[0m\u001b[1;33m)\u001b[0m\u001b[1;33m\u001b[0m\u001b[1;33m\u001b[0m\u001b[0m\n\u001b[1;32m--> 386\u001b[1;33m     \u001b[0m_assert_stacked_square\u001b[0m\u001b[1;33m(\u001b[0m\u001b[0ma\u001b[0m\u001b[1;33m)\u001b[0m\u001b[1;33m\u001b[0m\u001b[1;33m\u001b[0m\u001b[0m\n\u001b[0m\u001b[0;32m    387\u001b[0m     \u001b[0mb\u001b[0m\u001b[1;33m,\u001b[0m \u001b[0mwrap\u001b[0m \u001b[1;33m=\u001b[0m \u001b[0m_makearray\u001b[0m\u001b[1;33m(\u001b[0m\u001b[0mb\u001b[0m\u001b[1;33m)\u001b[0m\u001b[1;33m\u001b[0m\u001b[1;33m\u001b[0m\u001b[0m\n\u001b[0;32m    388\u001b[0m     \u001b[0mt\u001b[0m\u001b[1;33m,\u001b[0m \u001b[0mresult_t\u001b[0m \u001b[1;33m=\u001b[0m \u001b[0m_commonType\u001b[0m\u001b[1;33m(\u001b[0m\u001b[0ma\u001b[0m\u001b[1;33m,\u001b[0m \u001b[0mb\u001b[0m\u001b[1;33m)\u001b[0m\u001b[1;33m\u001b[0m\u001b[1;33m\u001b[0m\u001b[0m\n",
      "\u001b[1;32m~\\anaconda3\\lib\\site-packages\\numpy\\linalg\\linalg.py\u001b[0m in \u001b[0;36m_assert_stacked_square\u001b[1;34m(*arrays)\u001b[0m\n\u001b[0;32m    211\u001b[0m         \u001b[0mm\u001b[0m\u001b[1;33m,\u001b[0m \u001b[0mn\u001b[0m \u001b[1;33m=\u001b[0m \u001b[0ma\u001b[0m\u001b[1;33m.\u001b[0m\u001b[0mshape\u001b[0m\u001b[1;33m[\u001b[0m\u001b[1;33m-\u001b[0m\u001b[1;36m2\u001b[0m\u001b[1;33m:\u001b[0m\u001b[1;33m]\u001b[0m\u001b[1;33m\u001b[0m\u001b[1;33m\u001b[0m\u001b[0m\n\u001b[0;32m    212\u001b[0m         \u001b[1;32mif\u001b[0m \u001b[0mm\u001b[0m \u001b[1;33m!=\u001b[0m \u001b[0mn\u001b[0m\u001b[1;33m:\u001b[0m\u001b[1;33m\u001b[0m\u001b[1;33m\u001b[0m\u001b[0m\n\u001b[1;32m--> 213\u001b[1;33m             \u001b[1;32mraise\u001b[0m \u001b[0mLinAlgError\u001b[0m\u001b[1;33m(\u001b[0m\u001b[1;34m'Last 2 dimensions of the array must be square'\u001b[0m\u001b[1;33m)\u001b[0m\u001b[1;33m\u001b[0m\u001b[1;33m\u001b[0m\u001b[0m\n\u001b[0m\u001b[0;32m    214\u001b[0m \u001b[1;33m\u001b[0m\u001b[0m\n\u001b[0;32m    215\u001b[0m \u001b[1;32mdef\u001b[0m \u001b[0m_assert_finite\u001b[0m\u001b[1;33m(\u001b[0m\u001b[1;33m*\u001b[0m\u001b[0marrays\u001b[0m\u001b[1;33m)\u001b[0m\u001b[1;33m:\u001b[0m\u001b[1;33m\u001b[0m\u001b[1;33m\u001b[0m\u001b[0m\n",
      "\u001b[1;31mLinAlgError\u001b[0m: Last 2 dimensions of the array must be square"
     ]
    }
   ],
   "source": [
    "'''3.1) Code for A x = b'''\n",
    "A=A_mtrx[:100,:50]\n",
    "b_vec=np.random.random(100)\n",
    "x_vec = np.linalg.solve( A, b_vec )"
   ]
  },
  {
   "cell_type": "markdown",
   "metadata": {},
   "source": [
    "**Explanation:**"
   ]
  },
  {
   "cell_type": "markdown",
   "metadata": {},
   "source": [
    "### <span style=\"color:blue\">[3.2)](#toa) Using your algorithms, what can you say about the solution of: \n",
    "    \n",
    "<br>\n",
    "<span style=\"color:blue\">\n",
    "\\begin{equation*}\n",
    "\\overset{(50 \\times 100)}{\\Amtrx}\\,\\xvec = \\bvec.\n",
    "\\end{equation*}\n",
    "</span>\n",
    "    \n",
    "### <span style=\"color:blue\">Explain.</span><a id=\"a32\"></a>"
   ]
  },
  {
   "cell_type": "code",
   "execution_count": 8,
   "metadata": {},
   "outputs": [
    {
     "ename": "LinAlgError",
     "evalue": "Last 2 dimensions of the array must be square",
     "output_type": "error",
     "traceback": [
      "\u001b[1;31m---------------------------------------------------------------------------\u001b[0m",
      "\u001b[1;31mLinAlgError\u001b[0m                               Traceback (most recent call last)",
      "\u001b[1;32m<ipython-input-8-c8b691a9e1d1>\u001b[0m in \u001b[0;36m<module>\u001b[1;34m\u001b[0m\n\u001b[0;32m      2\u001b[0m \u001b[0mA\u001b[0m\u001b[1;33m=\u001b[0m\u001b[0mA_mtrx\u001b[0m\u001b[1;33m[\u001b[0m\u001b[1;33m:\u001b[0m\u001b[1;36m50\u001b[0m\u001b[1;33m,\u001b[0m\u001b[1;33m:\u001b[0m\u001b[1;36m100\u001b[0m\u001b[1;33m]\u001b[0m\u001b[1;33m\u001b[0m\u001b[1;33m\u001b[0m\u001b[0m\n\u001b[0;32m      3\u001b[0m \u001b[0mb_vec\u001b[0m\u001b[1;33m=\u001b[0m\u001b[0mnp\u001b[0m\u001b[1;33m.\u001b[0m\u001b[0mrandom\u001b[0m\u001b[1;33m.\u001b[0m\u001b[0mrandom\u001b[0m\u001b[1;33m(\u001b[0m\u001b[1;36m100\u001b[0m\u001b[1;33m)\u001b[0m\u001b[1;33m\u001b[0m\u001b[1;33m\u001b[0m\u001b[0m\n\u001b[1;32m----> 4\u001b[1;33m \u001b[0mx_vec\u001b[0m \u001b[1;33m=\u001b[0m \u001b[0mnp\u001b[0m\u001b[1;33m.\u001b[0m\u001b[0mlinalg\u001b[0m\u001b[1;33m.\u001b[0m\u001b[0msolve\u001b[0m\u001b[1;33m(\u001b[0m \u001b[0mA\u001b[0m\u001b[1;33m,\u001b[0m \u001b[0mb_vec\u001b[0m \u001b[1;33m)\u001b[0m\u001b[1;33m\u001b[0m\u001b[1;33m\u001b[0m\u001b[0m\n\u001b[0m",
      "\u001b[1;32m<__array_function__ internals>\u001b[0m in \u001b[0;36msolve\u001b[1;34m(*args, **kwargs)\u001b[0m\n",
      "\u001b[1;32m~\\anaconda3\\lib\\site-packages\\numpy\\linalg\\linalg.py\u001b[0m in \u001b[0;36msolve\u001b[1;34m(a, b)\u001b[0m\n\u001b[0;32m    384\u001b[0m     \u001b[0ma\u001b[0m\u001b[1;33m,\u001b[0m \u001b[0m_\u001b[0m \u001b[1;33m=\u001b[0m \u001b[0m_makearray\u001b[0m\u001b[1;33m(\u001b[0m\u001b[0ma\u001b[0m\u001b[1;33m)\u001b[0m\u001b[1;33m\u001b[0m\u001b[1;33m\u001b[0m\u001b[0m\n\u001b[0;32m    385\u001b[0m     \u001b[0m_assert_stacked_2d\u001b[0m\u001b[1;33m(\u001b[0m\u001b[0ma\u001b[0m\u001b[1;33m)\u001b[0m\u001b[1;33m\u001b[0m\u001b[1;33m\u001b[0m\u001b[0m\n\u001b[1;32m--> 386\u001b[1;33m     \u001b[0m_assert_stacked_square\u001b[0m\u001b[1;33m(\u001b[0m\u001b[0ma\u001b[0m\u001b[1;33m)\u001b[0m\u001b[1;33m\u001b[0m\u001b[1;33m\u001b[0m\u001b[0m\n\u001b[0m\u001b[0;32m    387\u001b[0m     \u001b[0mb\u001b[0m\u001b[1;33m,\u001b[0m \u001b[0mwrap\u001b[0m \u001b[1;33m=\u001b[0m \u001b[0m_makearray\u001b[0m\u001b[1;33m(\u001b[0m\u001b[0mb\u001b[0m\u001b[1;33m)\u001b[0m\u001b[1;33m\u001b[0m\u001b[1;33m\u001b[0m\u001b[0m\n\u001b[0;32m    388\u001b[0m     \u001b[0mt\u001b[0m\u001b[1;33m,\u001b[0m \u001b[0mresult_t\u001b[0m \u001b[1;33m=\u001b[0m \u001b[0m_commonType\u001b[0m\u001b[1;33m(\u001b[0m\u001b[0ma\u001b[0m\u001b[1;33m,\u001b[0m \u001b[0mb\u001b[0m\u001b[1;33m)\u001b[0m\u001b[1;33m\u001b[0m\u001b[1;33m\u001b[0m\u001b[0m\n",
      "\u001b[1;32m~\\anaconda3\\lib\\site-packages\\numpy\\linalg\\linalg.py\u001b[0m in \u001b[0;36m_assert_stacked_square\u001b[1;34m(*arrays)\u001b[0m\n\u001b[0;32m    211\u001b[0m         \u001b[0mm\u001b[0m\u001b[1;33m,\u001b[0m \u001b[0mn\u001b[0m \u001b[1;33m=\u001b[0m \u001b[0ma\u001b[0m\u001b[1;33m.\u001b[0m\u001b[0mshape\u001b[0m\u001b[1;33m[\u001b[0m\u001b[1;33m-\u001b[0m\u001b[1;36m2\u001b[0m\u001b[1;33m:\u001b[0m\u001b[1;33m]\u001b[0m\u001b[1;33m\u001b[0m\u001b[1;33m\u001b[0m\u001b[0m\n\u001b[0;32m    212\u001b[0m         \u001b[1;32mif\u001b[0m \u001b[0mm\u001b[0m \u001b[1;33m!=\u001b[0m \u001b[0mn\u001b[0m\u001b[1;33m:\u001b[0m\u001b[1;33m\u001b[0m\u001b[1;33m\u001b[0m\u001b[0m\n\u001b[1;32m--> 213\u001b[1;33m             \u001b[1;32mraise\u001b[0m \u001b[0mLinAlgError\u001b[0m\u001b[1;33m(\u001b[0m\u001b[1;34m'Last 2 dimensions of the array must be square'\u001b[0m\u001b[1;33m)\u001b[0m\u001b[1;33m\u001b[0m\u001b[1;33m\u001b[0m\u001b[0m\n\u001b[0m\u001b[0;32m    214\u001b[0m \u001b[1;33m\u001b[0m\u001b[0m\n\u001b[0;32m    215\u001b[0m \u001b[1;32mdef\u001b[0m \u001b[0m_assert_finite\u001b[0m\u001b[1;33m(\u001b[0m\u001b[1;33m*\u001b[0m\u001b[0marrays\u001b[0m\u001b[1;33m)\u001b[0m\u001b[1;33m:\u001b[0m\u001b[1;33m\u001b[0m\u001b[1;33m\u001b[0m\u001b[0m\n",
      "\u001b[1;31mLinAlgError\u001b[0m: Last 2 dimensions of the array must be square"
     ]
    }
   ],
   "source": [
    "'''3.2) Code for A x = b'''\n",
    "A=A_mtrx[:50,:100]\n",
    "b_vec=np.random.random(100)\n",
    "x_vec = np.linalg.solve( A, b_vec )"
   ]
  },
  {
   "cell_type": "markdown",
   "metadata": {},
   "source": [
    "**Explanation:**"
   ]
  },
  {
   "cell_type": "markdown",
   "metadata": {},
   "source": [
    "## <span style=\"color:blue\">[Assignment 4 (25 pts)](#toa)</span><a id=\"a4\"></a>"
   ]
  },
  {
   "cell_type": "markdown",
   "metadata": {},
   "source": [
    "### <span style=\"color:blue\">Consider the following reaction mechanism (S is a substrate; not a chemical element):</span>\n",
    "    \n",
    "     r0 :  CO(g)  + S     <=> CO(s)           \n",
    "     r1 :  CO(s)  + S     <=> C(s)   + O(s)  \n",
    "     r2 :  O(s)   + H2(g) <=> H2O(g) + S      \n",
    "     r3 :  H2(g)  + 2 S   <=> 2 H(s)        \n",
    "     r4 :  C(s)   + H(s)  <=> CH(s)  + S    \n",
    "     r5 :  CH(s)  + H(s)  <=> CH2(s) + S     \n",
    "     r6 :  CH2(s) + H(s)  <=> CH3(s) + S    \n",
    "     r7 :  CH3(s) + H(s)  <=> CH4(g) + 2 S   \n"
   ]
  },
  {
   "cell_type": "markdown",
   "metadata": {},
   "source": [
    "### <span style=\"color:blue\">[4.1)](#toa) Build the stoichiometric matrix $\\Smtrx$ and compute rank($\\Smtrx$). What can you say about the reaction rate density vector for a given species production rate density vector? Explain your answer based on the reaction rate equation.</span><a id=\"a41\"></a>"
   ]
  },
  {
   "cell_type": "code",
   "execution_count": 21,
   "metadata": {
    "scrolled": false
   },
   "outputs": [
    {
     "name": "stdout",
     "output_type": "stream",
     "text": [
      "stoich_mtrx =\n",
      " [[ 0.  0.  0.  1.  0.  0.  0. -1.  0.  0.  0. -1.]\n",
      " [ 0.  0.  0. -1.  0.  0.  1. -1.  1.  0.  0.  0.]\n",
      " [ 0.  0.  0.  0.  1. -1.  0.  1. -1.  0.  0.  0.]\n",
      " [ 2.  0.  0.  0.  0. -1.  0. -2.  0.  0.  0.  0.]\n",
      " [-1.  1.  0.  0.  0.  0. -1.  1.  0.  0.  0.  0.]\n",
      " [-1. -1.  0.  0.  0.  0.  0.  1.  0.  1.  0.  0.]\n",
      " [-1.  0.  1.  0.  0.  0.  0.  1.  0. -1.  0.  0.]\n",
      " [-1.  0. -1.  0.  0.  0.  0.  2.  0.  0.  1.  0.]]\n",
      "matrix shape = (8, 12)\n"
     ]
    },
    {
     "data": {
      "image/png": "[encoded data removed]",
      "text/plain": [
       "<Figure size 1440x288 with 1 Axes>"
      ]
     },
     "metadata": {
      "needs_background": "light"
     },
     "output_type": "display_data"
    },
    {
     "name": "stdout",
     "output_type": "stream",
     "text": [
      "r0 :  CO(g)  + S     <=> CO(s)\n",
      "r1 :  CO(s)  + S     <=> C(s)   + O(s)\n",
      "r2 :  O(s)   + H2(g) <=> H2O(g) + S\n",
      "r3 :  H2(g)  + 2 S   <=> 2 H(s)\n",
      "r4 :  C(s)   + H(s)  <=> CH(s)  + S\n",
      "r5 :  CH(s)  + H(s)  <=> CH2(s) + S\n",
      "r6 :  CH2(s) + H(s)  <=> CH3(s) + S\n",
      "r7 :  CH3(s) + H(s)  <=> CH4(g) + 2 S\n",
      "n_reactions = 8\n"
     ]
    }
   ],
   "source": [
    "'''4.1) Code for stoichiometric matrix'''\n",
    "\n",
    "import io\n",
    "\n",
    "# open file in reading mode 'r' (default), text 't' (default)\n",
    "finput = open('data/methane-catalyst-rxn.txt','rt')\n",
    "reactions = list()\n",
    "\n",
    "for line in finput:\n",
    "    stripped_line = line.strip()\n",
    "    if stripped_line[0] == '#': continue\n",
    "    if stripped_line[:2] == '..': continue\n",
    "        \n",
    "    reactions.append( stripped_line.split(':')[0] )\n",
    "    \n",
    "finput.close()\n",
    "    \n",
    "\n",
    "import numpy as np\n",
    "\n",
    "species_tmp = list()  # temporary list for species\n",
    "\n",
    "for r in reactions:\n",
    "    \n",
    "    left  = r.split('<=>')[0].strip()\n",
    "    right = r.split('<=>')[1].strip()\n",
    "    \n",
    "    left_terms  = left.split('+')\n",
    "    right_terms = right.split('+')\n",
    "    \n",
    "    terms = [ t.strip() for t in left_terms ] + [ t.strip() for t in right_terms ] # list comprehensions\n",
    "    \n",
    "    for i in terms:\n",
    "        \n",
    "        tmp = i.split(' ') # split stoichiometric coefficient from species name\n",
    "        \n",
    "        assert len(tmp)==1 or len(tmp)==2,' terms = %r, i = %r, tmp = %r '%(terms,i,tmp)\n",
    "        \n",
    "        if len(tmp) == 2:\n",
    "            species_tmp.append( tmp[1].strip() ) # species name if there is a stoichiometric coeff.\n",
    "        else:\n",
    "            species_tmp.append( i.strip() ) # species name if there is no stoichiometric coeff.\n",
    "\n",
    "species_filtered = set(species_tmp) # filter species as a set\n",
    "\n",
    "species = list( species_filtered )  # convert species set to list \n",
    "\n",
    "\n",
    "s_mtrx = np.zeros( (len(reactions),len(species)) )\n",
    "\n",
    "for r in reactions:\n",
    "    \n",
    "    i_row = reactions.index(r)  # reaction index\n",
    "    \n",
    "    left  = r.split('<=>')[0].strip()\n",
    "    right = r.split('<=>')[1].strip()\n",
    "    left_terms = left.split('+')\n",
    "    left_terms = [t.strip() for t in left_terms] # in-place clean up\n",
    "    right_terms = right.split('+')\n",
    "    right_terms = [t.strip() for t in right_terms] # in-place clean up\n",
    "    \n",
    "    for t in left_terms: # reactants\n",
    "        \n",
    "        tmp = t.split(' ') # split stoichiometric coeff and species name\n",
    "        \n",
    "        if len(tmp) == 2: # stoich coeff and species name\n",
    "            coeff = float(tmp[0].strip())\n",
    "            species_member = tmp[1].strip()\n",
    "            j_col = species.index(species_member) # find id of species in the species list\n",
    "            \n",
    "            assert s_mtrx[i_row,j_col] == 0.0, \\\n",
    "                   'duplicates not allowed r%r: %r %r r'%\\\n",
    "                   (i_row,r,species_member,s_mtrx[i_row,j_col])\n",
    "            \n",
    "            s_mtrx[i_row,j_col] = -1.0 * coeff\n",
    "            \n",
    "        else: # only species name\n",
    "            species_member = tmp[0].strip()\n",
    "            j_col = species.index(species_member)\n",
    "            assert s_mtrx[i_row,j_col] == 0.0, \\\n",
    "                   'duplicates not allowed r%r: %r %r r'%\\\n",
    "                   (i_row,r,species_member,s_mtrx[i_row,j_col])\n",
    "            \n",
    "            s_mtrx[i_row,j_col] = -1.0\n",
    "\n",
    "    for t in right_terms: # products\n",
    "        \n",
    "        tmp = t.split(' ')\n",
    "        \n",
    "        if len(tmp) == 2:\n",
    "            coeff = float(tmp[0].strip())\n",
    "            species_member = tmp[1].strip()\n",
    "            j_col = species.index(species_member)\n",
    "            \n",
    "            assert s_mtrx[i_row,j_col] == 0.0, \\\n",
    "                   'duplicates not allowed r%r: %r %r r'%\\\n",
    "                   (i_row,r,species_member,s_mtrx[i_row,j_col])\n",
    "            \n",
    "            s_mtrx[i_row,j_col] = 1.0 * coeff\n",
    "        else:\n",
    "            species_member = tmp[0].strip()\n",
    "            j_col = species.index(species_member)\n",
    "            assert s_mtrx[i_row,j_col] == 0.0, \\\n",
    "                   'duplicates not allowed r%r: %r %r r'%\\\n",
    "                   (i_row,r,species_member,s_mtrx[i_row,j_col])\n",
    "            s_mtrx[i_row,j_col] = 1.0\n",
    "\n",
    "print('stoich_mtrx =\\n',s_mtrx)\n",
    "\n",
    "\n",
    "from chen_3170.help import plot_matrix\n",
    "plot_matrix(s_mtrx, title='Stoichiometric Matrix')\n",
    "\n",
    "from chen_3170.help import print_reactions\n",
    "\n",
    "print_reactions( reactions )"
   ]
  },
  {
   "cell_type": "code",
   "execution_count": 55,
   "metadata": {},
   "outputs": [
    {
     "name": "stdout",
     "output_type": "stream",
     "text": [
      "Rank = 8\n"
     ]
    }
   ],
   "source": [
    "'''4.1) Code for computing rank(S)'''\n",
    "rank = np.linalg.matrix_rank(s_mtrx)\n",
    "print('Rank =', rank)"
   ]
  },
  {
   "cell_type": "markdown",
   "metadata": {},
   "source": [
    "**Explanation:** This is an underdetermined matrix. Here, the rank is equal to the number of rows of the matrix. If we were to solve, the solution would be dependent on \"b vector\" used."
   ]
  },
  {
   "cell_type": "markdown",
   "metadata": {},
   "source": [
    "### <span style=\"color:blue\">[4.2)](#toa) Build the matrix $\\Smtrx\\Smtrx^\\top$. Build a random production rate density vector, $\\gvec$, with values varying from -2.1 to 1.7 [mol/(s cc)]. Compute the solution of the problem:\n",
    "</span>\n",
    "<br>\n",
    "<span style=\"color:blue\">\n",
    "\\begin{equation*}\n",
    "    \\Smtrx\\Smtrx^\\top\\,\\rvec = \\Smtrx\\,\\gvec ,\n",
    "\\end{equation*}\n",
    "</span>    \n",
    "\n",
    "### <span style=\"color:blue\">and show which reactions are effectively going forward and which reactions are effectively goind backward. Is the solution unique despite the fact that $\\gvec$ is a random vector? Explain.</span><a id=\"a42\"></a>"
   ]
  },
  {
   "cell_type": "code",
   "execution_count": 59,
   "metadata": {},
   "outputs": [
    {
     "name": "stdout",
     "output_type": "stream",
     "text": [
      "[[ 3.  0. -1.  2. -1. -1. -1. -2.]\n",
      " [ 0.  4. -2.  2. -2. -1. -1. -2.]\n",
      " [-1. -2.  4. -1.  1.  1.  1.  2.]\n",
      " [ 2.  2. -1.  9. -4. -4. -4. -6.]\n",
      " [-1. -2.  1. -4.  4.  1.  2.  3.]\n",
      " [-1. -1.  1. -4.  1.  4.  1.  3.]\n",
      " [-1. -1.  1. -4.  2.  1.  4.  2.]\n",
      " [-2. -2.  2. -6.  3.  3.  2.  7.]]\n"
     ]
    },
    {
     "ename": "TypeError",
     "evalue": "'float' object cannot be interpreted as an integer",
     "output_type": "error",
     "traceback": [
      "\u001b[1;31m---------------------------------------------------------------------------\u001b[0m",
      "\u001b[1;31mTypeError\u001b[0m                                 Traceback (most recent call last)",
      "\u001b[1;32m<ipython-input-59-2a5d1e02bbf0>\u001b[0m in \u001b[0;36m<module>\u001b[1;34m\u001b[0m\n\u001b[0;32m      4\u001b[0m \u001b[1;33m\u001b[0m\u001b[0m\n\u001b[0;32m      5\u001b[0m \u001b[1;32mimport\u001b[0m \u001b[0mrandom\u001b[0m\u001b[1;33m\u001b[0m\u001b[1;33m\u001b[0m\u001b[0m\n\u001b[1;32m----> 6\u001b[1;33m \u001b[0mg_vec\u001b[0m \u001b[1;33m=\u001b[0m \u001b[0mrandom\u001b[0m\u001b[1;33m.\u001b[0m\u001b[0msample\u001b[0m\u001b[1;33m(\u001b[0m\u001b[0mrange\u001b[0m\u001b[1;33m(\u001b[0m\u001b[1;33m-\u001b[0m\u001b[1;36m2.1\u001b[0m\u001b[1;33m,\u001b[0m \u001b[1;36m1.7\u001b[0m\u001b[1;33m)\u001b[0m\u001b[1;33m,\u001b[0m \u001b[1;36m8\u001b[0m\u001b[1;33m)\u001b[0m\u001b[1;33m\u001b[0m\u001b[1;33m\u001b[0m\u001b[0m\n\u001b[0m\u001b[0;32m      7\u001b[0m \u001b[0mprint\u001b[0m\u001b[1;33m(\u001b[0m\u001b[0mg_vec\u001b[0m\u001b[1;33m)\u001b[0m\u001b[1;33m\u001b[0m\u001b[1;33m\u001b[0m\u001b[0m\n",
      "\u001b[1;31mTypeError\u001b[0m: 'float' object cannot be interpreted as an integer"
     ]
    }
   ],
   "source": [
    "'''Code for random g vector with values between -2.1 to 1.7'''\n",
    "matrix=s_mtrx@s_mtrx.transpose()\n",
    "print(matrix)\n",
    "\n",
    "import random\n",
    "g_vec = random.sample(range(-2.1, 1.7), 8)\n",
    "print(g_vec)"
   ]
  },
  {
   "cell_type": "code",
   "execution_count": null,
   "metadata": {},
   "outputs": [],
   "source": [
    "'''Code to solve for r vector'''\n"
   ]
  },
  {
   "cell_type": "code",
   "execution_count": null,
   "metadata": {},
   "outputs": [],
   "source": [
    "'''Code for forward and backward reaction rates'''\n"
   ]
  },
  {
   "cell_type": "markdown",
   "metadata": {},
   "source": [
    "**Explanation:**"
   ]
  },
  {
   "cell_type": "markdown",
   "metadata": {},
   "source": [
    "## <span style=\"color:blue\">[Assignment 5 (5 pts)](#toa)</span><a id=\"a5\"></a>"
   ]
  },
  {
   "cell_type": "markdown",
   "metadata": {},
   "source": [
    "### <span style=\"color:blue\">Describe the most unclear point in the content presented so far. Then, make an effort to clarify the point on your own.</span>"
   ]
  }
 ],
 "metadata": {
  "kernelspec": {
   "display_name": "Python 3",
   "language": "python",
   "name": "python3"
  },
  "language_info": {
   "codemirror_mode": {
    "name": "ipython",
    "version": 3
   },
   "file_extension": ".py",
   "mimetype": "text/x-python",
   "name": "python",
   "nbconvert_exporter": "python",
   "pygments_lexer": "ipython3",
   "version": "3.8.3"
  },
  "latex_envs": {
   "LaTeX_envs_menu_present": true,
   "autoclose": false,
   "autocomplete": true,
   "bibliofile": "biblio.bib",
   "cite_by": "apalike",
   "current_citInitial": 1,
   "eqLabelWithNumbers": true,
   "eqNumInitial": 1,
   "hotkeys": {
    "equation": "Ctrl-E",
    "itemize": "Ctrl-I"
   },
   "labels_anchors": false,
   "latex_user_defs": false,
   "report_style_numbering": false,
   "user_envs_cfg": false
  }
 },
 "nbformat": 4,
 "nbformat_minor": 2
}
