{
 "cells": [
  {
   "cell_type": "markdown",
   "metadata": {},
   "source": [
    "ChEn-3170: Computational Methods in Chemical Engineering Fall 2020 UMass Lowell; Prof. V. F. de Almeida **23Sep20**\n",
    "\n",
    "# Laboratory Work 04 (24Sep20)\n",
    "$\n",
    "  \\newcommand{\\Amtrx}{\\boldsymbol{\\mathsf{A}}}\n",
    "  \\newcommand{\\Bmtrx}{\\boldsymbol{\\mathsf{B}}}\n",
    "  \\newcommand{\\Cmtrx}{\\boldsymbol{\\mathsf{C}}}\n",
    "  \\newcommand{\\Mmtrx}{\\boldsymbol{\\mathsf{M}}}\n",
    "  \\newcommand{\\Smtrx}{\\boldsymbol{\\mathsf{S}}}\n",
    "  \\newcommand{\\Imtrx}{\\boldsymbol{\\mathsf{I}}}\n",
    "  \\newcommand{\\Pmtrx}{\\boldsymbol{\\mathsf{P}}}\n",
    "  \\newcommand{\\Lmtrx}{\\boldsymbol{\\mathsf{L}}}\n",
    "  \\newcommand{\\Umtrx}{\\boldsymbol{\\mathsf{U}}}\n",
    "  \\newcommand{\\xvec}{\\boldsymbol{\\mathsf{x}}}\n",
    "  \\newcommand{\\yvec}{\\boldsymbol{\\mathsf{y}}}\n",
    "  \\newcommand{\\zvec}{\\boldsymbol{\\mathsf{z}}}\n",
    "  \\newcommand{\\avec}{\\boldsymbol{\\mathsf{a}}}\n",
    "  \\newcommand{\\bvec}{\\boldsymbol{\\mathsf{b}}}\n",
    "  \\newcommand{\\cvec}{\\boldsymbol{\\mathsf{c}}}\n",
    "  \\newcommand{\\rvec}{\\boldsymbol{\\mathsf{r}}}\n",
    "  \\newcommand{\\gvec}{\\boldsymbol{\\mathsf{g}}}\n",
    "  \\newcommand{\\norm}[1]{\\bigl\\lVert{#1}\\bigr\\rVert}\n",
    "  \\DeclareMathOperator{\\rank}{rank}\n",
    "$"
   ]
  },
  {
   "cell_type": "markdown",
   "metadata": {},
   "source": [
    "### Name: `Joshua Gudis`"
   ]
  },
  {
   "cell_type": "markdown",
   "metadata": {},
   "source": [
    "### Rubric for each assignment: \n",
    "\n",
    "|       Context            |  Points |\n",
    "| -----------------------     | ------- |\n",
    "| Precision of the answer     |   80%   |\n",
    "| Answer Markdown readability |   10%   |\n",
    "| Code readability            |   10%   |\n",
    "    "
   ]
  },
  {
   "cell_type": "markdown",
   "metadata": {},
   "source": [
    "### <span style=\"color:red\">Guidance:</span>\n",
    "\n",
    "+  <span style=\"color:red\"> \n",
    "    Save your work frequently to a file locally to your computer.\n",
    "   </span>\n",
    "+  <span style=\"color:red\">\n",
    "    During your work and before submitting the final version do:</span> Kernel -> Restart & Run All<span style=\"color:red\">, to verify your notebook runs correctly.\n",
    "   </span>\n",
    "+  <span style=\"color:red\">\n",
    "    Save your file again.\n",
    "   </span>\n",
    "+  <span style=\"color:red\">\n",
    "    Upload the notebook file: \n",
    "   </span> labwork-xx.ipynb<span style=\"color:red\"> on Blackboard.</span>"
   ]
  },
  {
   "cell_type": "markdown",
   "metadata": {},
   "source": [
    "---\n",
    "## Table of Assignments<a id=\"toa\"></a>\n",
    "* [Assignment 1 (25 pts)](#a1)\n",
    " - [1.1) Stoichiometric matrix and reaction set](#a11)\n",
    " - [1.2) Production rates and reaction set](#a12)\n",
    "* [Assignment 2 (25 pts)](#a2)\n",
    " - [2.1) Matrix $\\Amtrx$](#a21)\n",
    " - [2.2) Matrix $\\Bmtrx$](#a22)\n",
    " - [2.3) $\\Amtrx=\\Bmtrx$?](#a23)\n",
    " - [2.4) Compute $\\Smtrx\\,\\gvec$](#a24)\n",
    " - [2.5) Vector magnitude](#a25)\n",
    " - [2.6) Subtract $\\Amtrx^\\top$ from $\\Amtrx$](#a26)\n",
    "* [Assignment 3 (25 pts)](#a3)\n",
    " - [3.1) Permutation 1](#a31)\n",
    " - [3.2) Permutation 2](#a32)\n",
    " - [3.3) Permutation 1 \\& 2](#a33)\n",
    " - [3.4) Permutation order](#a34)\n",
    "* [Assignment 4 (20 pts)](#a4)\n",
    " - [4.1) Permutation 1](#a41)\n",
    " - [4.2) Permutation 2](#a42)\n",
    "* [Assignment 5 (5 pts)](#a5)\n",
    "---"
   ]
  },
  {
   "cell_type": "markdown",
   "metadata": {},
   "source": [
    "## <span style=\"color:blue\">[Assignment 1 (25 pts)](#toa)</span></span><a id=\"a1\"></a>"
   ]
  },
  {
   "cell_type": "markdown",
   "metadata": {},
   "source": [
    "### <span style=\"color:blue\">Consider the following reaction mechanism:</span>\n",
    "    \n",
    "     r0 :  CO(g)  + S     <=> CO(s)           \n",
    "     r1 :  CO(s)  + S     <=> C(s)   + O(s)  \n",
    "     r2 :  O(s)   + H2(g) <=> H2O(g) + S      \n",
    "     r3 :  H2(g)  + 2 S   <=> 2 H(s)        \n",
    "     r4 :  C(s)   + H(s)  <=> CH(s)  + S    \n",
    "     r5 :  CH(s)  + H(s)  <=> CH2(s) + S     \n",
    "     r6 :  CH2(s) + H(s)  <=> CH3(s) + S    \n",
    "     r7 :  CH3(s) + H(s)  <=> CH4(g) + 2 S   \n",
    "     \n",
    "### <span style=\"color:blue\">and the correspoding net reaction rate density vector in units of mols/(s ml):</span>\n",
    "\n",
    "$\\rvec = \\begin{pmatrix}\n",
    " -1.1 \\\\\n",
    " -1.4 \\\\\n",
    "  2.7 \\\\\n",
    " -4.3 \\\\\n",
    " -2.7 \\\\\n",
    " -3.1 \\\\\n",
    " -1.8 \\\\\n",
    " -2.9\n",
    " \\end{pmatrix}\n",
    "$."
   ]
  },
  {
   "cell_type": "markdown",
   "metadata": {},
   "source": [
    "### <span style=\"color:blue\">[1.1)](#toa) Print and plot the stoichiometric matrix $\\Smtrx$, and the reaction set as shown below.</span><a id=\"a11\"></a>"
   ]
  },
  {
   "cell_type": "code",
   "execution_count": 2,
   "metadata": {},
   "outputs": [
    {
     "name": "stdout",
     "output_type": "stream",
     "text": [
      "stoich_mtrx = \n",
      " [[ 0.  0.  0. -1.  0.  1.  0.  0.  0. -1.  0.  0.]\n",
      " [ 0.  0.  1. -1.  1. -1.  0.  0.  0.  0.  0.  0.]\n",
      " [ 1. -1. -1.  1.  0.  0.  0.  0.  0.  0.  0.  0.]\n",
      " [ 0. -1.  0. -2.  0.  0.  0.  0.  2.  0.  0.  0.]\n",
      " [ 0.  0.  0.  1. -1.  0.  1.  0. -1.  0.  0.  0.]\n",
      " [ 0.  0.  0.  1.  0.  0. -1.  0. -1.  0.  1.  0.]\n",
      " [ 0.  0.  0.  1.  0.  0.  0.  1. -1.  0. -1.  0.]\n",
      " [ 0.  0.  0.  2.  0.  0.  0. -1. -1.  0.  0.  1.]]\n",
      "matrix shape =  (8, 12)\n"
     ]
    },
    {
     "data": {
      "image/png": "[encoded data removed]",
      "text/plain": [
       "<Figure size 432x288 with 1 Axes>"
      ]
     },
     "metadata": {
      "needs_background": "light"
     },
     "output_type": "display_data"
    },
    {
     "name": "stdout",
     "output_type": "stream",
     "text": [
      "r0 :  CO(g)  + S     <=> CO(s)\n",
      "r1 :  CO(s)  + S     <=> C(s)   + O(s)\n",
      "r2 :  O(s)   + H2(g) <=> H2O(g) + S\n",
      "r3 :  H2(g)  + 2 S   <=> 2 H(s)\n",
      "r4 :  C(s)   + H(s)  <=> CH(s)  + S\n",
      "r5 :  CH(s)  + H(s)  <=> CH2(s) + S\n",
      "r6 :  CH2(s) + H(s)  <=> CH3(s) + S\n",
      "r7 :  CH3(s) + H(s)  <=> CH4(g) + 2 S\n",
      "n_reactions = 8\n"
     ]
    }
   ],
   "source": [
    "import numpy as np\n",
    "stoich= [ [ 0.,0., 0., -1., 0., 1., 0., 0., 0., -1., 0., 0. ],\n",
    "         [ 0., 0., 1., -1., 1., -1., 0., 0., 0., 0., 0., 0. ],\n",
    "         [ 1., -1.,-1., 1., 0., 0., 0., 0., 0., 0., 0., 0. ] ,\n",
    "         [0., -1., 0., -2., 0., 0., 0., 0., 2., 0., 0., 0. ] ,\n",
    "         [0., 0., 0., 1., -1., 0., 1., 0., -1., 0., 0., 0. ] ,\n",
    "         [0., 0., 0., 1., 0., 0., -1., 0., -1., 0., 1., 0. ] ,\n",
    "         [0., 0., 0., 1., 0., 0., 0., 1., -1., 0., -1., 0. ] ,\n",
    "         [0., 0., 0., 2., 0., 0., 0., -1., -1., 0., 0., 1. ]] \n",
    "s_mtrx=np.array(stoich)\n",
    "print('stoich_mtrx = \\n', s_mtrx)\n",
    "print('matrix shape = ', s_mtrx.shape)\n",
    "\n",
    "from matplotlib import pyplot as plt \n",
    "%matplotlib inline\n",
    "\n",
    "plt.figure(1)    \n",
    "\n",
    "plt.imshow(s_mtrx, cmap='gray' ) \n",
    "plt.title('Stoichiometric Matrix',fontsize=14)\n",
    "plt.show()\n",
    "\n",
    "import io\n",
    "\n",
    "finput = open('data/methane-catalyst-rxn.txt','rt')\n",
    "\n",
    "reactions = list()\n",
    "\n",
    "for line in finput:\n",
    "    stripped_line = line.strip()\n",
    "    if stripped_line[0] == '#': continue\n",
    "    if stripped_line[:2] == '..': continue\n",
    "        \n",
    "    reactions.append( stripped_line.split(':')[0] )\n",
    "    \n",
    "finput.close()\n",
    "    \n",
    "for r in reactions: \n",
    "    i = reactions.index(r)\n",
    "    print('r%s'%i,': ',r)\n",
    "print('n_reactions = 8')"
   ]
  },
  {
   "cell_type": "code",
   "execution_count": 1,
   "metadata": {},
   "outputs": [
    {
     "name": "stdout",
     "output_type": "stream",
     "text": [
      "stoic_mtrx=\n",
      " [[ 0.  0.  0. -1.  0.  1.  0.  0.  0. -1.  0.  0.]\n",
      " [ 0.  0.  1. -1.  1. -1.  0.  0.  0.  0.  0.  0.]\n",
      " [ 1. -1. -1.  1.  0.  0.  0.  0.  0.  0.  0.  0.]\n",
      " [ 0. -1.  0. -2.  0.  0.  0.  0.  2.  0.  0.  0.]\n",
      " [ 0.  0.  0.  1. -1.  0.  1.  0. -1.  0.  0.  0.]\n",
      " [ 0.  0.  0.  1.  0.  0. -1.  0. -1.  0.  1.  0.]\n",
      " [ 0.  0.  0.  1.  0.  0.  0.  1. -1.  0. -1.  0.]\n",
      " [ 0.  0.  0.  2.  0.  0.  0. -1. -1.  0.  0.  1.]]\n",
      "matrix shape = (8, 12)\n"
     ]
    },
    {
     "data": {
      "image/png": "[encoded data removed]",
      "text/plain": [
       "<Figure size 1440x288 with 1 Axes>"
      ]
     },
     "metadata": {
      "needs_background": "light"
     },
     "output_type": "display_data"
    },
    {
     "name": "stdout",
     "output_type": "stream",
     "text": [
      "r0 :  CO(g)  + S     <=> CO(s)\n",
      "r1 :  CO(s)  + S     <=> C(s)   + O(s)\n",
      "r2 :  O(s)   + H2(g) <=> H2O(g) + S\n",
      "r3 :  H2(g)  + 2 S   <=> 2 H(s)\n",
      "r4 :  C(s)   + H(s)  <=> CH(s)  + S\n",
      "r5 :  CH(s)  + H(s)  <=> CH2(s) + S\n",
      "r6 :  CH2(s) + H(s)  <=> CH3(s) + S\n",
      "r7 :  CH3(s) + H(s)  <=> CH4(g) + 2 S\n",
      "n_reactions = 8\n"
     ]
    }
   ],
   "source": [
    "'''Code for stoichiometric matrix'''\n"
   ]
  },
  {
   "cell_type": "markdown",
   "metadata": {},
   "source": [
    "### <span style=\"color:blue\"> [1.2)](#toa) Compute the species production rates in vector form, show all values with units, and show which species is produced the most.</span><a id=\"a12\"></a>"
   ]
  },
  {
   "cell_type": "code",
   "execution_count": 4,
   "metadata": {},
   "outputs": [
    {
     "name": "stdout",
     "output_type": "stream",
     "text": [
      "[ 2.7  1.6 -4.1  0.4  1.3  0.3  0.4  1.1  1.9  1.1 -1.3 -2.9] mol/s ml\n"
     ]
    }
   ],
   "source": [
    "r_vec=np.array( [-1.1, -1.4, 2.7, -4.3, -2.7, -3.1, -1.8, -2.9] )\n",
    "a_mtrx=s_mtrx.transpose()\n",
    "g_vec= a_mtrx @ r_vec\n",
    "print(g_vec,'mol/s ml')"
   ]
  },
  {
   "cell_type": "markdown",
   "metadata": {},
   "source": [
    "## <span style=\"color:blue\">[Assignment 2 (25 pts)](#toa)</span><a id=\"a2\"></a>"
   ]
  },
  {
   "cell_type": "markdown",
   "metadata": {},
   "source": [
    "### <span style=\"color:blue\">[2.1)](#toa) Compute the matrix $\\Amtrx = \\frac{1}{3}\\,\\Smtrx\\Smtrx^\\top$, print the result with up to 3 decimals precision.</span><a id=\"a21\"></a>"
   ]
  },
  {
   "cell_type": "code",
   "execution_count": 5,
   "metadata": {},
   "outputs": [
    {
     "name": "stdout",
     "output_type": "stream",
     "text": [
      "A_mtrx= \n",
      " [[ 1.     0.    -0.333  0.667 -0.333 -0.333 -0.333 -0.667]\n",
      " [ 0.     1.333 -0.667  0.667 -0.667 -0.333 -0.333 -0.667]\n",
      " [-0.333 -0.667  1.333 -0.333  0.333  0.333  0.333  0.667]\n",
      " [ 0.667  0.667 -0.333  3.    -1.333 -1.333 -1.333 -2.   ]\n",
      " [-0.333 -0.667  0.333 -1.333  1.333  0.333  0.667  1.   ]\n",
      " [-0.333 -0.333  0.333 -1.333  0.333  1.333  0.333  1.   ]\n",
      " [-0.333 -0.333  0.333 -1.333  0.667  0.333  1.333  0.667]\n",
      " [-0.667 -0.667  0.667 -2.     1.     1.     0.667  2.333]]\n"
     ]
    }
   ],
   "source": [
    "np.set_printoptions( precision=3, threshold=20, edgeitems=12, linewidth=100 )\n",
    "a1_mtrx=s_mtrx@s_mtrx.transpose()\n",
    "a_mtrx=1/3*a1_mtrx\n",
    "print('A_mtrx= \\n',a_mtrx)"
   ]
  },
  {
   "cell_type": "markdown",
   "metadata": {},
   "source": [
    "### <span style=\"color:blue\">[2.2)](#toa) Compute the matrix $\\Bmtrx = \\frac{1}{3}\\,\\Smtrx^\\top\\Smtrx$, print the result with up to 3 decimals precision.</span><a id=\"a22\"></a>"
   ]
  },
  {
   "cell_type": "code",
   "execution_count": 6,
   "metadata": {},
   "outputs": [
    {
     "name": "stdout",
     "output_type": "stream",
     "text": [
      "B_mtrx = \n",
      " [[ 0.333 -0.333 -0.333  0.333  0.     0.     0.     0.     0.     0.     0.     0.   ]\n",
      " [-0.333  0.667  0.333  0.333  0.     0.     0.     0.    -0.667  0.     0.     0.   ]\n",
      " [-0.333  0.333  0.667 -0.667  0.333 -0.333  0.     0.     0.     0.     0.     0.   ]\n",
      " [ 0.333  0.333 -0.667  4.667 -0.667  0.     0.    -0.333 -3.     0.333  0.     0.667]\n",
      " [ 0.     0.     0.333 -0.667  0.667 -0.333 -0.333  0.     0.333  0.     0.     0.   ]\n",
      " [ 0.     0.    -0.333  0.    -0.333  0.667  0.     0.     0.    -0.333  0.     0.   ]\n",
      " [ 0.     0.     0.     0.    -0.333  0.     0.667  0.     0.     0.    -0.333  0.   ]\n",
      " [ 0.     0.     0.    -0.333  0.     0.     0.     0.667  0.     0.    -0.333 -0.333]\n",
      " [ 0.    -0.667  0.    -3.     0.333  0.     0.     0.     2.667  0.     0.    -0.333]\n",
      " [ 0.     0.     0.     0.333  0.    -0.333  0.     0.     0.     0.333  0.     0.   ]\n",
      " [ 0.     0.     0.     0.     0.     0.    -0.333 -0.333  0.     0.     0.667  0.   ]\n",
      " [ 0.     0.     0.     0.667  0.     0.     0.    -0.333 -0.333  0.     0.     0.333]]\n"
     ]
    }
   ],
   "source": [
    "b1_mtrx=s_mtrx.transpose()@s_mtrx\n",
    "b_mtrx=1/3*b1_mtrx\n",
    "print('B_mtrx = \\n', b_mtrx)\n"
   ]
  },
  {
   "cell_type": "markdown",
   "metadata": {},
   "source": [
    "### <span style=\"color:blue\">[2.3)](#toa) Is $\\Amtrx = \\Bmtrx$? Explain.</span><a id=\"a23\"></a> \n",
    "No because of the way matrix multiplication works. The multiplication does not multiply the same rows by the same columns so we get different answers."
   ]
  },
  {
   "cell_type": "markdown",
   "metadata": {},
   "source": [
    "**Explanation:**"
   ]
  },
  {
   "cell_type": "markdown",
   "metadata": {},
   "source": [
    "### <span style=\"color:blue\">[2.4)](#toa) Compute the product $\\yvec = \\Smtrx\\,\\gvec$ and print the results with up to 3 decimals precision.</span><a id=\"a24\"></a>"
   ]
  },
  {
   "cell_type": "code",
   "execution_count": 42,
   "metadata": {},
   "outputs": [
    {
     "name": "stdout",
     "output_type": "stream",
     "text": [
      "y_vec =  [-1.2 -3.5  5.6  1.4 -2.4 -3.2  0.9 -5.1]\n"
     ]
    }
   ],
   "source": [
    "y_vec= s_mtrx @ g_vec\n",
    "print('y_vec = ', y_vec)\n"
   ]
  },
  {
   "cell_type": "markdown",
   "metadata": {},
   "source": [
    "### <span style=\"color:blue\">[2.5)](#toa) Compute the norm (or magnitude) $\\norm{\\yvec}$ and print the result in exponential scientific format with 4 decimals.</span><a id=\"a25\"></a>"
   ]
  },
  {
   "cell_type": "code",
   "execution_count": 44,
   "metadata": {},
   "outputs": [
    {
     "name": "stdout",
     "output_type": "stream",
     "text": [
      "||y|| = 9.4779e+00\n"
     ]
    }
   ],
   "source": [
    "mag = np.sqrt( np.dot(y_vec, y_vec) )\n",
    "print('||y|| = %10.4e'%mag)"
   ]
  },
  {
   "cell_type": "code",
   "execution_count": 7,
   "metadata": {},
   "outputs": [
    {
     "name": "stdout",
     "output_type": "stream",
     "text": [
      "||y|| = 9.4779e+00\n"
     ]
    }
   ],
   "source": [
    "'''2.5'''\n"
   ]
  },
  {
   "cell_type": "markdown",
   "metadata": {},
   "source": [
    "### <span style=\"color:blue\">[2.6)](#toa) Compute $\\Amtrx - \\Amtrx^\\top$. Explain the result.</span><a id=\"a26\"></a>"
   ]
  },
  {
   "cell_type": "code",
   "execution_count": 45,
   "metadata": {},
   "outputs": [
    {
     "ename": "ValueError",
     "evalue": "operands could not be broadcast together with shapes (12,8) (8,12) ",
     "output_type": "error",
     "traceback": [
      "\u001b[1;31m---------------------------------------------------------------------------\u001b[0m",
      "\u001b[1;31mValueError\u001b[0m                                Traceback (most recent call last)",
      "\u001b[1;32m<ipython-input-45-b2e7583fe4f2>\u001b[0m in \u001b[0;36m<module>\u001b[1;34m\u001b[0m\n\u001b[1;32m----> 1\u001b[1;33m \u001b[0mc_mtrx\u001b[0m\u001b[1;33m=\u001b[0m\u001b[0ma_mtrx\u001b[0m\u001b[1;33m-\u001b[0m\u001b[0ma_mtrx\u001b[0m\u001b[1;33m.\u001b[0m\u001b[0mtranspose\u001b[0m\u001b[1;33m(\u001b[0m\u001b[1;33m)\u001b[0m\u001b[1;33m\u001b[0m\u001b[1;33m\u001b[0m\u001b[0m\n\u001b[0m\u001b[0;32m      2\u001b[0m \u001b[0mprint\u001b[0m\u001b[1;33m(\u001b[0m\u001b[0mc_mtrx\u001b[0m\u001b[1;33m)\u001b[0m\u001b[1;33m\u001b[0m\u001b[1;33m\u001b[0m\u001b[0m\n",
      "\u001b[1;31mValueError\u001b[0m: operands could not be broadcast together with shapes (12,8) (8,12) "
     ]
    }
   ],
   "source": [
    "c_mtrx=a_mtrx-a_mtrx.transpose()\n",
    "print(c_mtrx)"
   ]
  },
  {
   "cell_type": "markdown",
   "metadata": {},
   "source": [
    "**Explanation:** This is not possible because when we transpose the matrix, it changes its shape. Addition and subtraction is done element by element so subtracting one of the other is not possible."
   ]
  },
  {
   "cell_type": "markdown",
   "metadata": {},
   "source": [
    "## <span style=\"color:blue\">[Assignment 3 (25 pts)](#toa)</span><a id=\"a3\"></a>"
   ]
  },
  {
   "cell_type": "markdown",
   "metadata": {},
   "source": [
    "### <span style=\"color:blue\">[3.1)](#toa) Permute the second and last rows of $\\Smtrx\\Smtrx^\\top$ using a permutation matrix, *i.e.* $\\Pmtrx\\,\\Smtrx\\Smtrx^\\top$, and print all three matrices.</span><a id=\"a31\"></a>"
   ]
  },
  {
   "cell_type": "code",
   "execution_count": 32,
   "metadata": {},
   "outputs": [
    {
     "name": "stdout",
     "output_type": "stream",
     "text": [
      "s_mtrx = \n",
      " [[ 0.  0.  0. -1.  0.  1.  0.  0.  0. -1.  0.  0.]\n",
      " [ 0.  0.  1. -1.  1. -1.  0.  0.  0.  0.  0.  0.]\n",
      " [ 1. -1. -1.  1.  0.  0.  0.  0.  0.  0.  0.  0.]\n",
      " [ 0. -1.  0. -2.  0.  0.  0.  0.  2.  0.  0.  0.]\n",
      " [ 0.  0.  0.  1. -1.  0.  1.  0. -1.  0.  0.  0.]\n",
      " [ 0.  0.  0.  1.  0.  0. -1.  0. -1.  0.  1.  0.]\n",
      " [ 0.  0.  0.  1.  0.  0.  0.  1. -1.  0. -1.  0.]\n",
      " [ 0.  0.  0.  2.  0.  0.  0. -1. -1.  0.  0.  1.]]\n",
      "s_mtrx transposed = \n",
      " [[ 0.  0.  1.  0.  0.  0.  0.  0.]\n",
      " [ 0.  0. -1. -1.  0.  0.  0.  0.]\n",
      " [ 0.  1. -1.  0.  0.  0.  0.  0.]\n",
      " [-1. -1.  1. -2.  1.  1.  1.  2.]\n",
      " [ 0.  1.  0.  0. -1.  0.  0.  0.]\n",
      " [ 1. -1.  0.  0.  0.  0.  0.  0.]\n",
      " [ 0.  0.  0.  0.  1. -1.  0.  0.]\n",
      " [ 0.  0.  0.  0.  0.  0.  1. -1.]\n",
      " [ 0.  0.  0.  2. -1. -1. -1. -1.]\n",
      " [-1.  0.  0.  0.  0.  0.  0.  0.]\n",
      " [ 0.  0.  0.  0.  0.  1. -1.  0.]\n",
      " [ 0.  0.  0.  0.  0.  0.  0.  1.]]\n",
      "permutation matrix = \n",
      " [[1 0 0 0 0 0 0 0]\n",
      " [0 0 0 0 0 0 0 1]\n",
      " [0 0 1 0 0 0 0 0]\n",
      " [0 0 0 1 0 0 0 0]\n",
      " [0 0 0 0 1 0 0 0]\n",
      " [0 0 0 0 0 1 0 0]\n",
      " [0 0 0 0 0 0 1 0]\n",
      " [0 1 0 0 0 0 0 0]]\n",
      "matrix with rows permuted = \n",
      " [[ 3.  0. -1.  2. -1. -1. -1. -2.]\n",
      " [-2. -2.  2. -6.  3.  3.  2.  7.]\n",
      " [-1. -2.  4. -1.  1.  1.  1.  2.]\n",
      " [ 2.  2. -1.  9. -4. -4. -4. -6.]\n",
      " [-1. -2.  1. -4.  4.  1.  2.  3.]\n",
      " [-1. -1.  1. -4.  1.  4.  1.  3.]\n",
      " [-1. -1.  1. -4.  2.  1.  4.  2.]\n",
      " [ 0.  4. -2.  2. -2. -1. -1. -2.]]\n"
     ]
    }
   ],
   "source": [
    "permute= [[1,0,0,0,0,0,0,0],\n",
    "         [0,0,0,0,0,0,0,1],\n",
    "         [0,0,1,0,0,0,0,0],\n",
    "         [0,0,0,1,0,0,0,0],\n",
    "         [0,0,0,0,1,0,0,0],\n",
    "         [0,0,0,0,0,1,0,0],\n",
    "         [0,0,0,0,0,0,1,0],\n",
    "         [0,1,0,0,0,0,0,0]]\n",
    "p_mtrx=np.array(permute)\n",
    "print('s_mtrx = \\n',s_mtrx)\n",
    "\n",
    "print('s_mtrx transposed = \\n',s_mtrx.transpose())\n",
    "\n",
    "print('permutation matrix = \\n', p_mtrx)\n",
    "\n",
    "print('matrix with rows permuted = \\n', p_mtrx@a1_mtrx)"
   ]
  },
  {
   "cell_type": "markdown",
   "metadata": {},
   "source": [
    "### <span style=\"color:blue\">[3.2)](#toa) Permute the fourth and last rows of $\\Smtrx\\Smtrx^\\top$ using a permutation matrix, *i.e.* $\\Pmtrx\\,\\Smtrx\\Smtrx^\\top$, and print all three matrices.</span><a id=\"a32\"></a>"
   ]
  },
  {
   "cell_type": "code",
   "execution_count": 35,
   "metadata": {},
   "outputs": [
    {
     "name": "stdout",
     "output_type": "stream",
     "text": [
      "s_mtrx = \n",
      " [[ 0.  0.  0. -1.  0.  1.  0.  0.  0. -1.  0.  0.]\n",
      " [ 0.  0.  1. -1.  1. -1.  0.  0.  0.  0.  0.  0.]\n",
      " [ 1. -1. -1.  1.  0.  0.  0.  0.  0.  0.  0.  0.]\n",
      " [ 0. -1.  0. -2.  0.  0.  0.  0.  2.  0.  0.  0.]\n",
      " [ 0.  0.  0.  1. -1.  0.  1.  0. -1.  0.  0.  0.]\n",
      " [ 0.  0.  0.  1.  0.  0. -1.  0. -1.  0.  1.  0.]\n",
      " [ 0.  0.  0.  1.  0.  0.  0.  1. -1.  0. -1.  0.]\n",
      " [ 0.  0.  0.  2.  0.  0.  0. -1. -1.  0.  0.  1.]]\n",
      "s_mtrx transposed = \n",
      " [[ 0.  0.  1.  0.  0.  0.  0.  0.]\n",
      " [ 0.  0. -1. -1.  0.  0.  0.  0.]\n",
      " [ 0.  1. -1.  0.  0.  0.  0.  0.]\n",
      " [-1. -1.  1. -2.  1.  1.  1.  2.]\n",
      " [ 0.  1.  0.  0. -1.  0.  0.  0.]\n",
      " [ 1. -1.  0.  0.  0.  0.  0.  0.]\n",
      " [ 0.  0.  0.  0.  1. -1.  0.  0.]\n",
      " [ 0.  0.  0.  0.  0.  0.  1. -1.]\n",
      " [ 0.  0.  0.  2. -1. -1. -1. -1.]\n",
      " [-1.  0.  0.  0.  0.  0.  0.  0.]\n",
      " [ 0.  0.  0.  0.  0.  1. -1.  0.]\n",
      " [ 0.  0.  0.  0.  0.  0.  0.  1.]]\n",
      "permutation matrix = \n",
      " [[1 0 0 0 0 0 0 0]\n",
      " [0 1 0 0 0 0 0 0]\n",
      " [0 0 1 0 0 0 0 0]\n",
      " [0 0 0 0 0 0 0 1]\n",
      " [0 0 0 0 1 0 0 0]\n",
      " [0 0 0 0 0 1 0 0]\n",
      " [0 0 0 0 0 0 1 0]\n",
      " [0 0 0 1 0 0 0 0]]\n",
      "matrix with rows permuted = \n",
      " [[ 3.  0. -1.  2. -1. -1. -1. -2.]\n",
      " [ 0.  4. -2.  2. -2. -1. -1. -2.]\n",
      " [-1. -2.  4. -1.  1.  1.  1.  2.]\n",
      " [-2. -2.  2. -6.  3.  3.  2.  7.]\n",
      " [-1. -2.  1. -4.  4.  1.  2.  3.]\n",
      " [-1. -1.  1. -4.  1.  4.  1.  3.]\n",
      " [-1. -1.  1. -4.  2.  1.  4.  2.]\n",
      " [ 2.  2. -1.  9. -4. -4. -4. -6.]]\n"
     ]
    }
   ],
   "source": [
    "permute= [[1,0,0,0,0,0,0,0],\n",
    "         [0,1,0,0,0,0,0,0],\n",
    "         [0,0,1,0,0,0,0,0],\n",
    "         [0,0,0,0,0,0,0,1],\n",
    "         [0,0,0,0,1,0,0,0],\n",
    "         [0,0,0,0,0,1,0,0],\n",
    "         [0,0,0,0,0,0,1,0],\n",
    "         [0,0,0,1,0,0,0,0]]\n",
    "p_mtrx=np.array(permute)\n",
    "\n",
    "\n",
    "print('s_mtrx = \\n',s_mtrx)\n",
    "\n",
    "print('s_mtrx transposed = \\n',s_mtrx.transpose())\n",
    "\n",
    "print('permutation matrix = \\n', p_mtrx)\n",
    "\n",
    "print('matrix with rows permuted = \\n', p_mtrx@a1_mtrx)"
   ]
  },
  {
   "cell_type": "markdown",
   "metadata": {},
   "source": [
    "### <span style=\"color:blue\">[3.3)](#toa) Permute the second and last rows followed by the permutation of the forth and last rows of $\\Smtrx\\Smtrx^\\top$ using a single matrix multiplication, *i.e.* $\\Pmtrx\\,\\Smtrx\\Smtrx^\\top$, and print all three matrices.</span><a id=\"a33\"></a>"
   ]
  },
  {
   "cell_type": "code",
   "execution_count": null,
   "metadata": {},
   "outputs": [],
   "source": [
    "'''3.3'''\n"
   ]
  },
  {
   "cell_type": "markdown",
   "metadata": {},
   "source": [
    "### <span style=\"color:blue\">[3.4)](#toa) Does the order of the permutation above matter? Prove your answer numerically.</span><a id=\"a34\"></a>"
   ]
  },
  {
   "cell_type": "markdown",
   "metadata": {},
   "source": [
    "**Answer:**"
   ]
  },
  {
   "cell_type": "code",
   "execution_count": null,
   "metadata": {},
   "outputs": [],
   "source": [
    "'''3.4'''\n"
   ]
  },
  {
   "cell_type": "markdown",
   "metadata": {},
   "source": [
    "## <span style=\"color:blue\">[Assignment 4 (20 pts)](#toa)</span><a id=\"a4\"></a>"
   ]
  },
  {
   "cell_type": "markdown",
   "metadata": {},
   "source": [
    "### <span style=\"color:blue\">[4.1)](#toa) Compute the vector $\\Smtrx\\,\\gvec$ by row dot products of $\\Smtrx$ and $\\gvec$ and compare with $\\yvec$. Print the comparison.</span><a id=\"a41\"></a>"
   ]
  },
  {
   "cell_type": "code",
   "execution_count": 37,
   "metadata": {},
   "outputs": [
    {
     "name": "stdout",
     "output_type": "stream",
     "text": [
      "[-4.1  3.7  5.7 -5.   0.3  1.1  1.  -0.7 -2.3 -2.7 -0.1  1.1]\n"
     ]
    }
   ],
   "source": [
    "print(s_mtrx[0,:]*g_vec[0]+s_mtrx[1,:]*g_vec[1]+s_mtrx[2,:]*g_vec[2]+s_mtrx[3,:]*g_vec[3]+s_mtrx[4,:]*g_vec[4]+s_mtrx[5,:]*g_vec[5]+s_mtrx[6,:]*g_vec[6]+s_mtrx[7,:]*g_vec[7])\n"
   ]
  },
  {
   "cell_type": "markdown",
   "metadata": {},
   "source": [
    "### <span style=\"color:blue\">[4.2)](#toa) Compute the matrix product $\\Smtrx\\Smtrx^\\top$ using a sum of vector outer product matrices and prove it is correct.</span><a id=\"a42\"></a>"
   ]
  },
  {
   "cell_type": "code",
   "execution_count": 39,
   "metadata": {},
   "outputs": [
    {
     "name": "stdout",
     "output_type": "stream",
     "text": [
      "[[ 3.  0. -1.  2. -1. -1. -1. -2.]\n",
      " [ 0.  4. -2.  2. -2. -1. -1. -2.]\n",
      " [-1. -2.  4. -1.  1.  1.  1.  2.]\n",
      " [ 2.  2. -1.  9. -4. -4. -4. -6.]\n",
      " [-1. -2.  1. -4.  4.  1.  2.  3.]\n",
      " [-1. -1.  1. -4.  1.  4.  1.  3.]\n",
      " [-1. -1.  1. -4.  2.  1.  4.  2.]\n",
      " [-2. -2.  2. -6.  3.  3.  2.  7.]]\n",
      "[[ 2.  0. -1.  2. -1. -1. -1. -2.]\n",
      " [ 0.  4. -2.  2. -2. -1. -1. -2.]\n",
      " [-1. -2.  4. -1.  1.  1.  1.  2.]\n",
      " [ 2.  2. -1.  5. -2. -2. -2. -4.]\n",
      " [-1. -2.  1. -2.  3.  0.  1.  2.]\n",
      " [-1. -1.  1. -2.  0.  2.  1.  2.]\n",
      " [-1. -1.  1. -2.  1.  1.  2.  1.]\n",
      " [-2. -2.  2. -4.  2.  2.  1.  5.]]\n"
     ]
    }
   ],
   "source": [
    "s1_mtrx=s_mtrx.transpose()\n",
    "print(a1_mtrx)\n",
    "print(np.outer(s_mtrx[:,0],s1_mtrx[0,:])+np.outer(s_mtrx[:,1],s1_mtrx[1,:])+np.outer(s_mtrx[:,2],s1_mtrx[2,:])+np.outer(s_mtrx[:,3],s1_mtrx[3,:])+np.outer(s_mtrx[:,4],s1_mtrx[4,:])+np.outer(s_mtrx[:,5],s1_mtrx[5,:])+np.outer(s_mtrx[:,6],s1_mtrx[6,:])+np.outer(s_mtrx[:,7],s1_mtrx[7,:]))"
   ]
  },
  {
   "cell_type": "markdown",
   "metadata": {},
   "source": [
    "## <span style=\"color:blue\">[Assignment 5 (5 pts)](#toa)</span><a id=\"a5\"></a>"
   ]
  },
  {
   "cell_type": "markdown",
   "metadata": {},
   "source": [
    "### <span style=\"color:blue\">Describe the most unclear point in the content presented so far. Then, make an effort to clarify the point on your own.</span>"
   ]
  }
 ],
 "metadata": {
  "kernelspec": {
   "display_name": "Python 3",
   "language": "python",
   "name": "python3"
  },
  "language_info": {
   "codemirror_mode": {
    "name": "ipython",
    "version": 3
   },
   "file_extension": ".py",
   "mimetype": "text/x-python",
   "name": "python",
   "nbconvert_exporter": "python",
   "pygments_lexer": "ipython3",
   "version": "3.8.3"
  },
  "latex_envs": {
   "LaTeX_envs_menu_present": true,
   "autoclose": false,
   "autocomplete": true,
   "bibliofile": "biblio.bib",
   "cite_by": "apalike",
   "current_citInitial": 1,
   "eqLabelWithNumbers": true,
   "eqNumInitial": 1,
   "hotkeys": {
    "equation": "Ctrl-E",
    "itemize": "Ctrl-I"
   },
   "labels_anchors": false,
   "latex_user_defs": false,
   "report_style_numbering": false,
   "user_envs_cfg": false
  }
 },
 "nbformat": 4,
 "nbformat_minor": 2
}
